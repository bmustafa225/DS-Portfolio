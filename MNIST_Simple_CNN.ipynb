{
  "nbformat": 4,
  "nbformat_minor": 0,
  "metadata": {
    "colab": {
      "provenance": [],
      "authorship_tag": "ABX9TyO0td08EwofahCf1HLKojct",
      "include_colab_link": true
    },
    "kernelspec": {
      "name": "python3",
      "display_name": "Python 3"
    },
    "language_info": {
      "name": "python"
    },
    "accelerator": "GPU",
    "gpuClass": "standard"
  },
  "cells": [
    {
      "cell_type": "markdown",
      "metadata": {
        "id": "view-in-github",
        "colab_type": "text"
      },
      "source": [
        "<a href=\"https://colab.research.google.com/github/bmustafa225/DS-Portfolio/blob/main/MNIST_Simple_CNN.ipynb\" target=\"_parent\"><img src=\"https://colab.research.google.com/assets/colab-badge.svg\" alt=\"Open In Colab\"/></a>"
      ]
    },
    {
      "cell_type": "code",
      "execution_count": 1,
      "metadata": {
        "id": "lM8tgYfy5yKO"
      },
      "outputs": [],
      "source": [
        "import pandas as pd\n",
        "import numpy as np\n",
        "import tensorflow\n",
        "from keras.models import Sequential\n",
        "from keras.layers import Convolution2D, MaxPooling2D\n",
        "from keras.layers import Dense,Activation,Flatten,Dropout\n",
        "from keras.datasets import mnist\n",
        "from keras.utils import np_utils"
      ]
    },
    {
      "cell_type": "code",
      "source": [
        "(X_train,y_train),(X_test,y_test)=mnist.load_data()"
      ],
      "metadata": {
        "colab": {
          "base_uri": "https://localhost:8080/"
        },
        "id": "f5IofvJY6bbR",
        "outputId": "fd4a8f44-2fa1-4c15-e672-b649baed3629"
      },
      "execution_count": 2,
      "outputs": [
        {
          "output_type": "stream",
          "name": "stdout",
          "text": [
            "Downloading data from https://storage.googleapis.com/tensorflow/tf-keras-datasets/mnist.npz\n",
            "11490434/11490434 [==============================] - 2s 0us/step\n"
          ]
        }
      ]
    },
    {
      "cell_type": "code",
      "source": [
        "X_train=X_train.reshape(X_train.shape[0],28,28,1)\n",
        "X_test=X_test.reshape(X_test.shape[0],28,28,1)\n",
        "X_train=X_train.astype('float32')\n",
        "X_test=X_test.astype('float32')\n",
        "X_train /=255\n",
        "X_test /= 255"
      ],
      "metadata": {
        "id": "hrUOIBIb6tFa"
      },
      "execution_count": 3,
      "outputs": []
    },
    {
      "cell_type": "code",
      "source": [
        "y_train=np_utils.to_categorical(y_train,10)\n",
        "y_test=np_utils.to_categorical(y_test,10)"
      ],
      "metadata": {
        "id": "FjXL_qpuCfj4"
      },
      "execution_count": 4,
      "outputs": []
    },
    {
      "cell_type": "code",
      "source": [
        "model=Sequential([Convolution2D(32,(3,3),activation='relu',input_shape=(28,28,1)),\n",
        "                 Convolution2D(32,(3,3),activation='relu'),\n",
        "                 MaxPooling2D(pool_size=(2,2)),\n",
        "                  Flatten(),\n",
        "                 Dense(128,activation='relu'),\n",
        "                 Dropout(0.15),\n",
        "                 Dense(64,activation='relu'),\n",
        "                  Dropout(0.5),\n",
        "                 Dense(10,activation='softmax')])\n",
        "\n",
        "model.compile(optimizer='adam',loss='categorical_crossentropy',metrics=['accuracy'])"
      ],
      "metadata": {
        "id": "amlxFFLCE8is"
      },
      "execution_count": 6,
      "outputs": []
    },
    {
      "cell_type": "code",
      "source": [
        "model.fit(X_train,y_train,batch_size=12,epochs=10,verbose=1)"
      ],
      "metadata": {
        "colab": {
          "base_uri": "https://localhost:8080/"
        },
        "id": "ikeVQhPPGlL0",
        "outputId": "6f45a04d-6810-46d4-8aaf-546de73a4f79"
      },
      "execution_count": 7,
      "outputs": [
        {
          "output_type": "stream",
          "name": "stdout",
          "text": [
            "Epoch 1/10\n",
            "5000/5000 [==============================] - 32s 4ms/step - loss: 0.2154 - accuracy: 0.9373\n",
            "Epoch 2/10\n",
            "5000/5000 [==============================] - 21s 4ms/step - loss: 0.0787 - accuracy: 0.9795\n",
            "Epoch 3/10\n",
            "5000/5000 [==============================] - 21s 4ms/step - loss: 0.0552 - accuracy: 0.9852\n",
            "Epoch 4/10\n",
            "5000/5000 [==============================] - 22s 4ms/step - loss: 0.0454 - accuracy: 0.9882\n",
            "Epoch 5/10\n",
            "5000/5000 [==============================] - 21s 4ms/step - loss: 0.0361 - accuracy: 0.9907\n",
            "Epoch 6/10\n",
            "5000/5000 [==============================] - 21s 4ms/step - loss: 0.0314 - accuracy: 0.9923\n",
            "Epoch 7/10\n",
            "5000/5000 [==============================] - 21s 4ms/step - loss: 0.0268 - accuracy: 0.9927\n",
            "Epoch 8/10\n",
            "5000/5000 [==============================] - 22s 4ms/step - loss: 0.0255 - accuracy: 0.9937\n",
            "Epoch 9/10\n",
            "5000/5000 [==============================] - 21s 4ms/step - loss: 0.0229 - accuracy: 0.9942\n",
            "Epoch 10/10\n",
            "5000/5000 [==============================] - 21s 4ms/step - loss: 0.0216 - accuracy: 0.9950\n"
          ]
        },
        {
          "output_type": "execute_result",
          "data": {
            "text/plain": [
              "<keras.callbacks.History at 0x7f48d44b5b20>"
            ]
          },
          "metadata": {},
          "execution_count": 7
        }
      ]
    },
    {
      "cell_type": "code",
      "source": [
        "model.evaluate(X_test,y_test,verbose=1)"
      ],
      "metadata": {
        "id": "x6uwjDz1e_Ih",
        "outputId": "7469ba31-f8cd-4447-90f0-cd0ac2b7f3c3",
        "colab": {
          "base_uri": "https://localhost:8080/"
        }
      },
      "execution_count": 9,
      "outputs": [
        {
          "output_type": "stream",
          "name": "stdout",
          "text": [
            "313/313 [==============================] - 1s 3ms/step - loss: 0.0633 - accuracy: 0.9901\n"
          ]
        },
        {
          "output_type": "execute_result",
          "data": {
            "text/plain": [
              "[0.06330564618110657, 0.9901000261306763]"
            ]
          },
          "metadata": {},
          "execution_count": 9
        }
      ]
    },
    {
      "cell_type": "code",
      "source": [],
      "metadata": {
        "id": "KP7aKT8aPOKe"
      },
      "execution_count": null,
      "outputs": []
    }
  ]
}