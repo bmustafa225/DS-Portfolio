{
  "nbformat": 4,
  "nbformat_minor": 0,
  "metadata": {
    "colab": {
      "provenance": [],
      "authorship_tag": "ABX9TyOAONWkemF29VzE4nXTfzbT",
      "include_colab_link": true
    },
    "kernelspec": {
      "name": "python3",
      "display_name": "Python 3"
    },
    "language_info": {
      "name": "python"
    },
    "accelerator": "GPU",
    "gpuClass": "standard"
  },
  "cells": [
    {
      "cell_type": "markdown",
      "metadata": {
        "id": "view-in-github",
        "colab_type": "text"
      },
      "source": [
        "<a href=\"https://colab.research.google.com/github/bmustafa225/DS-Portfolio/blob/main/CNN_Cancer_Images.ipynb\" target=\"_parent\"><img src=\"https://colab.research.google.com/assets/colab-badge.svg\" alt=\"Open In Colab\"/></a>"
      ]
    },
    {
      "cell_type": "code",
      "execution_count": 1,
      "metadata": {
        "id": "xM9EaQ9raQa4"
      },
      "outputs": [],
      "source": [
        "import pandas as pd\n",
        "import numpy as np\n",
        "import matplotlib.pyplot as plt"
      ]
    },
    {
      "cell_type": "code",
      "source": [
        "from google.colab import drive\n",
        "drive.mount('/content/drive')"
      ],
      "metadata": {
        "colab": {
          "base_uri": "https://localhost:8080/"
        },
        "id": "j-Fwjvlfc497",
        "outputId": "5cc59862-cc82-4f04-8345-1c7943995f4b"
      },
      "execution_count": 2,
      "outputs": [
        {
          "output_type": "stream",
          "name": "stdout",
          "text": [
            "Mounted at /content/drive\n"
          ]
        }
      ]
    },
    {
      "cell_type": "code",
      "source": [
        "! mkdir ~/.kaggle"
      ],
      "metadata": {
        "id": "sFXsDlbn4yM2"
      },
      "execution_count": 3,
      "outputs": []
    },
    {
      "cell_type": "code",
      "source": [
        "! cp /content/drive/MyDrive/kaggle.json ~/.kaggle/kaggle.json"
      ],
      "metadata": {
        "id": "S_2pd3J-F-f9"
      },
      "execution_count": 4,
      "outputs": []
    },
    {
      "cell_type": "code",
      "source": [
        "! chmod 600 ~/.kaggle/kaggle.json"
      ],
      "metadata": {
        "id": "DPrnbMTxGPvy"
      },
      "execution_count": 5,
      "outputs": []
    },
    {
      "cell_type": "code",
      "source": [
        "! pip install kaggle"
      ],
      "metadata": {
        "colab": {
          "base_uri": "https://localhost:8080/"
        },
        "id": "6nwz3kYcGjSO",
        "outputId": "3adeb250-fb4f-40d0-cc43-985b67193d31"
      },
      "execution_count": 6,
      "outputs": [
        {
          "output_type": "stream",
          "name": "stdout",
          "text": [
            "Looking in indexes: https://pypi.org/simple, https://us-python.pkg.dev/colab-wheels/public/simple/\n",
            "Requirement already satisfied: kaggle in /usr/local/lib/python3.9/dist-packages (1.5.13)\n",
            "Requirement already satisfied: python-dateutil in /usr/local/lib/python3.9/dist-packages (from kaggle) (2.8.2)\n",
            "Requirement already satisfied: python-slugify in /usr/local/lib/python3.9/dist-packages (from kaggle) (8.0.1)\n",
            "Requirement already satisfied: requests in /usr/local/lib/python3.9/dist-packages (from kaggle) (2.27.1)\n",
            "Requirement already satisfied: certifi in /usr/local/lib/python3.9/dist-packages (from kaggle) (2022.12.7)\n",
            "Requirement already satisfied: tqdm in /usr/local/lib/python3.9/dist-packages (from kaggle) (4.65.0)\n",
            "Requirement already satisfied: urllib3 in /usr/local/lib/python3.9/dist-packages (from kaggle) (1.26.15)\n",
            "Requirement already satisfied: six>=1.10 in /usr/local/lib/python3.9/dist-packages (from kaggle) (1.16.0)\n",
            "Requirement already satisfied: text-unidecode>=1.3 in /usr/local/lib/python3.9/dist-packages (from python-slugify->kaggle) (1.3)\n",
            "Requirement already satisfied: idna<4,>=2.5 in /usr/local/lib/python3.9/dist-packages (from requests->kaggle) (3.4)\n",
            "Requirement already satisfied: charset-normalizer~=2.0.0 in /usr/local/lib/python3.9/dist-packages (from requests->kaggle) (2.0.12)\n"
          ]
        }
      ]
    },
    {
      "cell_type": "code",
      "source": [
        "! kaggle datasets download fernando2rad/brain-tumor-mri-images-44c"
      ],
      "metadata": {
        "colab": {
          "base_uri": "https://localhost:8080/"
        },
        "id": "eYs_SvN5IHG4",
        "outputId": "a02bf478-99e4-40dc-94c8-2e7bced8ed12"
      },
      "execution_count": 7,
      "outputs": [
        {
          "output_type": "stream",
          "name": "stdout",
          "text": [
            "Downloading brain-tumor-mri-images-44c.zip to /content\n",
            "100% 188M/188M [00:02<00:00, 66.6MB/s]\n",
            "100% 188M/188M [00:02<00:00, 75.7MB/s]\n"
          ]
        }
      ]
    },
    {
      "cell_type": "code",
      "source": [
        "#! unzip brain-tumor-mri-images-44c.zip\n",
        "import zipfile\n",
        "to_zip='/content/Cancer'\n",
        "from_zip='/content/brain-tumor-mri-images-44c.zip'\n",
        "with zipfile.ZipFile(from_zip,'r') as zip_ref:\n",
        "  zip_ref.extractall(to_zip)\n"
      ],
      "metadata": {
        "id": "R4hMd1ZwK9uV"
      },
      "execution_count": 8,
      "outputs": []
    },
    {
      "cell_type": "code",
      "source": [
        "import os\n",
        "if os.path.exists('/content/train_cancer') == False:\n",
        "  os.mkdir('/content/train_cancer')\n",
        "if os.path.exists('/content/test_cancer') == False:\n",
        "  os.mkdir('/content/test_cancer')"
      ],
      "metadata": {
        "id": "pbEjxg9Hl0s7"
      },
      "execution_count": 9,
      "outputs": []
    },
    {
      "cell_type": "code",
      "source": [
        "\n",
        "import shutil\n",
        "import random\n",
        "cancers=[]\n",
        "source=\"/content/Cancer\"\n",
        "for folder in os.listdir(source):\n",
        "  cancers.append(str(folder))\n",
        "  folder_path=source +'/'+ folder\n",
        "  count=0\n",
        "  for img in os.listdir(folder_path):\n",
        "    if img.endswith((\"jpeg\",'jpg')):\n",
        "      count+=1\n",
        "  if count != 0:\n",
        "    trn_size=int(count*0.80)\n",
        "    test_size=int(count*0.20)\n",
        "    to_trn_path='/content/train_cancer'+'/'+folder\n",
        "    to_tst_path='/content/test_cancer'+'/'+folder\n",
        "    os.mkdir(to_trn_path)\n",
        "    os.mkdir(to_tst_path)\n",
        "    for trn_f in random.sample(os.listdir(folder_path),trn_size):\n",
        "      trn_path= folder_path + '/' +trn_f\n",
        "      shutil.copy(trn_path,to_trn_path)\n",
        "    for tst_f in random.sample(os.listdir(folder_path),test_size):\n",
        "      tst_path= folder_path+ '/' +tst_f\n",
        "      shutil.copy(tst_path,to_tst_path)\n",
        "  "
      ],
      "metadata": {
        "id": "kQTASl58LDhu"
      },
      "execution_count": 10,
      "outputs": []
    },
    {
      "cell_type": "code",
      "source": [
        "train_path='/content/train_cancer'\n",
        "test_path='/content/test_cancer'\n",
        "cancers=[]\n",
        "for folder in os.listdir(source):\n",
        "  cancers.append(str(folder))\n",
        "print(len(os.listdir(train_path)))\n",
        "print(len(os.listdir(test_path)))\n",
        "\n",
        "print(len(os.listdir(source)),len(cancers))\n",
        "print(cancers)"
      ],
      "metadata": {
        "id": "_WLJFlCqNO6u",
        "colab": {
          "base_uri": "https://localhost:8080/"
        },
        "outputId": "7fc8d873-cb1d-49ff-894a-3e273852606f"
      },
      "execution_count": 11,
      "outputs": [
        {
          "output_type": "stream",
          "name": "stdout",
          "text": [
            "44\n",
            "44\n",
            "44 44\n",
            "['Glioblastoma T1C+', 'Granuloma T2', 'Astrocitoma T1C+', 'Oligodendroglioma T2', 'Ganglioglioma T1', 'Ganglioglioma T2', 'Meduloblastoma T1C+', 'Carcinoma T1C+', 'Schwannoma T2', 'Neurocitoma T2', 'Ependimoma T1C+', 'Carcinoma T2', 'Meningioma T2', 'Meduloblastoma T1', 'Neurocitoma T1', 'Astrocitoma T2', 'Tuberculoma T1C+', 'Carcinoma T1', 'Germinoma T1C+', 'Ganglioglioma T1C+', 'Meningioma T1C+', 'Papiloma T2', 'Schwannoma T1', 'Papiloma T1C+', '_NORMAL T1', 'Granuloma T1', 'Ependimoma T2', 'Granuloma T1C+', 'Neurocitoma T1C+', 'Tuberculoma T2', 'Oligodendroglioma T1C+', 'Meningioma T1', 'Germinoma T2', 'Ependimoma T1', 'Schwannoma T1C+', 'Astrocitoma T1', 'Oligodendroglioma T1', '_NORMAL T2', 'Glioblastoma T1', 'Germinoma T1', 'Papiloma T1', 'Glioblastoma T2', 'Tuberculoma T1', 'Meduloblastoma T2']\n"
          ]
        }
      ]
    },
    {
      "cell_type": "code",
      "source": [
        "import tensorflow as tf\n",
        "import tensorflow.keras as kr\n",
        "from keras.preprocessing.image import ImageDataGenerator"
      ],
      "metadata": {
        "id": "eX3MTjM4E6JH"
      },
      "execution_count": 12,
      "outputs": []
    },
    {
      "cell_type": "code",
      "source": [
        "train_data=ImageDataGenerator(preprocessing_function=tf.keras.applications.efficientnet.preprocess_input).flow_from_directory(directory=train_path,target_size=(244,244),\n",
        "                                                                                                                       batch_size=15,shuffle=True,classes=cancers)\n",
        "\n",
        "test_data=ImageDataGenerator(preprocessing_function=tf.keras.applications.efficientnet.preprocess_input).flow_from_directory(directory=test_path,target_size=(244,244),\n",
        "                                                                                                                       batch_size=15,shuffle=False,classes=cancers)\n"
      ],
      "metadata": {
        "id": "4upSabVPWYI2",
        "colab": {
          "base_uri": "https://localhost:8080/"
        },
        "outputId": "5ff1abaf-53e0-4661-ca9c-cb0122ba04a2"
      },
      "execution_count": 13,
      "outputs": [
        {
          "output_type": "stream",
          "name": "stdout",
          "text": [
            "Found 3552 images belonging to 44 classes.\n",
            "Found 876 images belonging to 44 classes.\n"
          ]
        }
      ]
    },
    {
      "cell_type": "code",
      "source": [
        "def plotImages(images_arr):\n",
        "    fig, axes = plt.subplots(1, 5, figsize=(20,20))\n",
        "    axes = axes.flatten()\n",
        "    for img, ax in zip( images_arr, axes):\n",
        "        ax.imshow(img)\n",
        "        ax.axis('off')\n",
        "    plt.tight_layout()\n",
        "    plt.show()"
      ],
      "metadata": {
        "id": "KhtR_4Zh9DPm"
      },
      "execution_count": 14,
      "outputs": []
    },
    {
      "cell_type": "code",
      "source": [
        "imgs,labels=next(train_data)\n",
        "plotImages(imgs)\n"
      ],
      "metadata": {
        "colab": {
          "base_uri": "https://localhost:8080/",
          "height": 344
        },
        "id": "JCyPexft9EoZ",
        "outputId": "0ad3ab12-3cb1-43ac-e89a-469eaa8f3baf"
      },
      "execution_count": 15,
      "outputs": [
        {
          "output_type": "stream",
          "name": "stderr",
          "text": [
            "WARNING:matplotlib.image:Clipping input data to the valid range for imshow with RGB data ([0..1] for floats or [0..255] for integers).\n",
            "WARNING:matplotlib.image:Clipping input data to the valid range for imshow with RGB data ([0..1] for floats or [0..255] for integers).\n",
            "WARNING:matplotlib.image:Clipping input data to the valid range for imshow with RGB data ([0..1] for floats or [0..255] for integers).\n",
            "WARNING:matplotlib.image:Clipping input data to the valid range for imshow with RGB data ([0..1] for floats or [0..255] for integers).\n",
            "WARNING:matplotlib.image:Clipping input data to the valid range for imshow with RGB data ([0..1] for floats or [0..255] for integers).\n"
          ]
        },
        {
          "output_type": "display_data",
          "data": {
            "text/plain": [
              "<Figure size 2000x2000 with 5 Axes>"
            ],
            "image/png": "[encoded data removed]"
          },
          "metadata": {}
        }
      ]
    },
    {
      "cell_type": "code",
      "source": [
        "from keras.models import Sequential\n",
        "from keras.layers import Convolution2D, MaxPooling2D\n",
        "from keras.layers import Dense,Activation,Flatten,Dropout\n",
        "from keras.datasets import mnist\n",
        "from keras.utils import np_utils"
      ],
      "metadata": {
        "id": "HbE-myb2oZU8"
      },
      "execution_count": 16,
      "outputs": []
    },
    {
      "cell_type": "code",
      "source": [
        "model=Sequential([Convolution2D(32,(3,3),activation='relu',input_shape=(224,224,3)),\n",
        "                 Convolution2D(32,(3,3),activation='relu'),\n",
        "                 MaxPooling2D(pool_size=(2,2)),\n",
        "                  Convolution2D(64,(3,3),activation='relu'),\n",
        "                   MaxPooling2D(pool_size=(2,2)),\n",
        "                  Flatten(),\n",
        "                 Dense(128,activation='relu'),\n",
        "                 Dropout(0.15),\n",
        "                 Dense(64,activation='relu'),\n",
        "                  Dropout(0.5),\n",
        "                  Dense(128,activation='sigmoid'),\n",
        "                  Dense(64,activation='relu'),\n",
        "                  Dropout(0.15),\n",
        "                 Dense(len(cancers),activation='softmax')])\n",
        "\n",
        "model.compile(optimizer='adam',loss='categorical_crossentropy',metrics=['accuracy'])"
      ],
      "metadata": {
        "id": "Z0v6BQ7t-EvI"
      },
      "execution_count": 17,
      "outputs": []
    },
    {
      "cell_type": "code",
      "source": [
        "from keras.layers import BatchNormalization\n",
        "from keras import regularizers\n",
        "from keras.optimizers import Adamax\n",
        "base_model = tf.keras.applications.efficientnet.EfficientNetB3(include_top= False, input_shape= (224,224,3), pooling= 'max')\n",
        "\n",
        "model2 = Sequential([\n",
        "    base_model,\n",
        "    BatchNormalization(axis= -1, momentum= 0.99, epsilon= 0.001),\n",
        "    Dense(256, kernel_regularizer= regularizers.l2(l= 0.016), activity_regularizer= regularizers.l1(0.006),\n",
        "                bias_regularizer= regularizers.l1(0.006), activation= 'relu'),\n",
        "    Dropout(rate= 0.45, seed= 123),\n",
        "    Dense(len(cancers), activation= 'softmax')\n",
        "])\n",
        "\n",
        "model2.summary()"
      ],
      "metadata": {
        "colab": {
          "base_uri": "https://localhost:8080/"
        },
        "id": "ANnhAkax_9_p",
        "outputId": "80c70a49-736d-4150-c9a7-469ead211dc1"
      },
      "execution_count": 18,
      "outputs": [
        {
          "output_type": "stream",
          "name": "stdout",
          "text": [
            "Downloading data from https://storage.googleapis.com/keras-applications/efficientnetb3_notop.h5\n",
            "43941136/43941136 [==============================] - 0s 0us/step\n",
            "Model: \"sequential_1\"\n",
            "_________________________________________________________________\n",
            " Layer (type)                Output Shape              Param #   \n",
            "=================================================================\n",
            " efficientnetb3 (Functional)  (None, 1536)             10783535  \n",
            "                                                                 \n",
            " batch_normalization (BatchN  (None, 1536)             6144      \n",
            " ormalization)                                                   \n",
            "                                                                 \n",
            " dense_5 (Dense)             (None, 256)               393472    \n",
            "                                                                 \n",
            " dropout_3 (Dropout)         (None, 256)               0         \n",
            "                                                                 \n",
            " dense_6 (Dense)             (None, 44)                11308     \n",
            "                                                                 \n",
            "=================================================================\n",
            "Total params: 11,194,459\n",
            "Trainable params: 11,104,084\n",
            "Non-trainable params: 90,375\n",
            "_________________________________________________________________\n"
          ]
        }
      ]
    },
    {
      "cell_type": "code",
      "source": [
        "model2.compile(Adamax(learning_rate= 0.0001), loss= 'categorical_crossentropy', metrics= ['accuracy'])\n",
        "model2.fit(x=train_data,verbose=2,epochs=8)"
      ],
      "metadata": {
        "colab": {
          "base_uri": "https://localhost:8080/"
        },
        "id": "NC3s7E6rNxYh",
        "outputId": "16b3a6d2-caa0-4e4c-c4ed-f9b7be87b5ae"
      },
      "execution_count": 19,
      "outputs": [
        {
          "output_type": "stream",
          "name": "stdout",
          "text": [
            "Epoch 1/8\n",
            "237/237 - 94s - loss: 11.9042 - accuracy: 0.0659 - 94s/epoch - 395ms/step\n",
            "Epoch 2/8\n",
            "237/237 - 66s - loss: 10.5021 - accuracy: 0.2511 - 66s/epoch - 279ms/step\n",
            "Epoch 3/8\n",
            "237/237 - 66s - loss: 9.7328 - accuracy: 0.3778 - 66s/epoch - 280ms/step\n",
            "Epoch 4/8\n",
            "237/237 - 66s - loss: 9.1186 - accuracy: 0.4792 - 66s/epoch - 279ms/step\n",
            "Epoch 5/8\n",
            "237/237 - 66s - loss: 8.6123 - accuracy: 0.5617 - 66s/epoch - 280ms/step\n",
            "Epoch 6/8\n",
            "237/237 - 66s - loss: 8.2166 - accuracy: 0.6098 - 66s/epoch - 278ms/step\n",
            "Epoch 7/8\n",
            "237/237 - 66s - loss: 7.7982 - accuracy: 0.6644 - 66s/epoch - 280ms/step\n",
            "Epoch 8/8\n",
            "237/237 - 66s - loss: 7.4417 - accuracy: 0.7213 - 66s/epoch - 278ms/step\n"
          ]
        },
        {
          "output_type": "execute_result",
          "data": {
            "text/plain": [
              "<keras.callbacks.History at 0x7f067e06e970>"
            ]
          },
          "metadata": {},
          "execution_count": 19
        }
      ]
    },
    {
      "cell_type": "code",
      "source": [
        "p=model2.predict_generator(test_data)\n",
        "predicts=np.argmax(p,axis=1)"
      ],
      "metadata": {
        "colab": {
          "base_uri": "https://localhost:8080/"
        },
        "id": "L2o9AJMHOLr2",
        "outputId": "86cd86b7-6020-4901-a430-0bac4f7722ac"
      },
      "execution_count": 26,
      "outputs": [
        {
          "output_type": "stream",
          "name": "stderr",
          "text": [
            "<ipython-input-26-a4d7de300bce>:1: UserWarning: `Model.predict_generator` is deprecated and will be removed in a future version. Please use `Model.predict`, which supports generators.\n",
            "  p=model2.predict_generator(test_data)\n"
          ]
        }
      ]
    },
    {
      "cell_type": "code",
      "source": [
        "from sklearn.metrics import classification_report\n",
        "\n",
        "\n",
        "print(classification_report(test_data.classes,predicts,target_names=cancers))"
      ],
      "metadata": {
        "colab": {
          "base_uri": "https://localhost:8080/"
        },
        "id": "y3b2aySKvyc2",
        "outputId": "ab598bb0-4af8-48af-c141-88544d04b0c8"
      },
      "execution_count": 28,
      "outputs": [
        {
          "output_type": "stream",
          "name": "stdout",
          "text": [
            "                        precision    recall  f1-score   support\n",
            "\n",
            "     Glioblastoma T1C+       0.89      0.89      0.89        18\n",
            "          Granuloma T2       0.00      0.00      0.00         3\n",
            "      Astrocitoma T1C+       0.86      0.91      0.88        46\n",
            "  Oligodendroglioma T2       1.00      1.00      1.00        13\n",
            "      Ganglioglioma T1       1.00      0.25      0.40         4\n",
            "      Ganglioglioma T2       0.00      0.00      0.00         4\n",
            "   Meduloblastoma T1C+       1.00      0.92      0.96        13\n",
            "        Carcinoma T1C+       1.00      0.91      0.95        22\n",
            "         Schwannoma T2       0.69      1.00      0.81        24\n",
            "        Neurocitoma T2       0.89      0.85      0.87        20\n",
            "       Ependimoma T1C+       1.00      0.56      0.71         9\n",
            "          Carcinoma T2       0.93      1.00      0.97        14\n",
            "         Meningioma T2       0.89      0.91      0.90        46\n",
            "     Meduloblastoma T1       1.00      1.00      1.00         4\n",
            "        Neurocitoma T1       0.81      0.85      0.83        26\n",
            "        Astrocitoma T2       0.84      0.91      0.87        34\n",
            "      Tuberculoma T1C+       0.87      0.81      0.84        16\n",
            "          Carcinoma T1       1.00      0.92      0.96        13\n",
            "        Germinoma T1C+       1.00      0.43      0.60         7\n",
            "    Ganglioglioma T1C+       1.00      0.67      0.80         3\n",
            "       Meningioma T1C+       0.83      0.92      0.87        73\n",
            "           Papiloma T2       1.00      0.83      0.91        12\n",
            "         Schwannoma T1       0.82      0.93      0.87        29\n",
            "         Papiloma T1C+       0.75      1.00      0.86        21\n",
            "            _NORMAL T1       0.84      0.96      0.90        50\n",
            "          Granuloma T1       0.80      0.67      0.73         6\n",
            "         Ependimoma T2       1.00      0.45      0.62        11\n",
            "        Granuloma T1C+       1.00      0.33      0.50         6\n",
            "      Neurocitoma T1C+       0.91      0.95      0.93        44\n",
            "        Tuberculoma T2       1.00      0.67      0.80         6\n",
            "Oligodendroglioma T1C+       1.00      0.93      0.96        14\n",
            "         Meningioma T1       0.78      0.94      0.86        54\n",
            "          Germinoma T2       1.00      0.40      0.57         5\n",
            "         Ependimoma T1       0.86      0.67      0.75         9\n",
            "       Schwannoma T1C+       0.93      0.97      0.95        38\n",
            "        Astrocitoma T1       0.93      0.77      0.84        35\n",
            "  Oligodendroglioma T1       0.94      1.00      0.97        17\n",
            "            _NORMAL T2       0.89      1.00      0.94        54\n",
            "       Glioblastoma T1       1.00      0.64      0.78        11\n",
            "          Germinoma T1       0.00      0.00      0.00         5\n",
            "           Papiloma T1       1.00      0.85      0.92        13\n",
            "       Glioblastoma T2       1.00      0.82      0.90        11\n",
            "        Tuberculoma T1       1.00      0.40      0.57         5\n",
            "     Meduloblastoma T2       0.86      0.75      0.80         8\n",
            "\n",
            "              accuracy                           0.87       876\n",
            "             macro avg       0.86      0.74      0.77       876\n",
            "          weighted avg       0.87      0.87      0.86       876\n",
            "\n"
          ]
        },
        {
          "output_type": "stream",
          "name": "stderr",
          "text": [
            "/usr/local/lib/python3.9/dist-packages/sklearn/metrics/_classification.py:1344: UndefinedMetricWarning: Precision and F-score are ill-defined and being set to 0.0 in labels with no predicted samples. Use `zero_division` parameter to control this behavior.\n",
            "  _warn_prf(average, modifier, msg_start, len(result))\n",
            "/usr/local/lib/python3.9/dist-packages/sklearn/metrics/_classification.py:1344: UndefinedMetricWarning: Precision and F-score are ill-defined and being set to 0.0 in labels with no predicted samples. Use `zero_division` parameter to control this behavior.\n",
            "  _warn_prf(average, modifier, msg_start, len(result))\n",
            "/usr/local/lib/python3.9/dist-packages/sklearn/metrics/_classification.py:1344: UndefinedMetricWarning: Precision and F-score are ill-defined and being set to 0.0 in labels with no predicted samples. Use `zero_division` parameter to control this behavior.\n",
            "  _warn_prf(average, modifier, msg_start, len(result))\n"
          ]
        }
      ]
    },
    {
      "cell_type": "code",
      "source": [],
      "metadata": {
        "id": "bo18gBO48tHy"
      },
      "execution_count": null,
      "outputs": []
    }
  ]
}